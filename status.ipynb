{
 "cells": [
  {
   "cell_type": "markdown",
   "id": "7befec52",
   "metadata": {},
   "source": [
    "# Execution Statistics\n",
    "\n",
    "This table contains the latest execution statistics.\n",
    "\n",
    "[](https://tools-techniques.quantecon.org/additive_functionals.html)[](https://tools-techniques.quantecon.org/arma.html)[](https://tools-techniques.quantecon.org/classical_filtering.html)[](https://tools-techniques.quantecon.org/discrete_dp.html)[](https://tools-techniques.quantecon.org/eig_circulant.html)[](https://tools-techniques.quantecon.org/entropy.html)[](https://tools-techniques.quantecon.org/estspec.html)[](https://tools-techniques.quantecon.org/finite_markov.html)[](https://tools-techniques.quantecon.org/five_preferences.html)[](https://tools-techniques.quantecon.org/intro.html)[](https://tools-techniques.quantecon.org/linear_algebra.html)[](https://tools-techniques.quantecon.org/lp_intro.html)[](https://tools-techniques.quantecon.org/lu_tricks.html)[](https://tools-techniques.quantecon.org/newton_method.html)[](https://tools-techniques.quantecon.org/opt_transport.html)[](https://tools-techniques.quantecon.org/qr_decomp.html)[](https://tools-techniques.quantecon.org/rob_markov_perf.html)[](https://tools-techniques.quantecon.org/robustness.html)[](https://tools-techniques.quantecon.org/stationary_densities.html)[](https://tools-techniques.quantecon.org/.html)[](https://tools-techniques.quantecon.org/svd_intro.html)[](https://tools-techniques.quantecon.org/troubleshooting.html)[](https://tools-techniques.quantecon.org/var_dmd.html)[](https://tools-techniques.quantecon.org/von_neumann_model.html)[](https://tools-techniques.quantecon.org/zreferences.html)|Document|Modified|Method|Run Time (s)|Status|\n",
    "|:------------------:|:------------------:|:------------------:|:------------------:|:------------------:|\n",
    "|additive_functionals|2024-01-30 02:46|cache|18.15|✅|\n",
    "|arma|2024-01-30 02:46|cache|9.78|✅|\n",
    "|classical_filtering|2024-01-30 02:47|cache|1.25|✅|\n",
    "|discrete_dp|2024-01-30 02:47|cache|31.34|✅|\n",
    "|eig_circulant|2024-01-30 02:47|cache|3.5|✅|\n",
    "|entropy|2024-01-30 02:47|cache|0.96|✅|\n",
    "|estspec|2024-01-30 02:47|cache|6.99|✅|\n",
    "|finite_markov|2024-01-30 02:47|cache|7.38|✅|\n",
    "|five_preferences|2024-01-30 02:48|cache|15.4|✅|\n",
    "|intro|2024-01-30 02:48|cache|0.91|✅|\n",
    "|linear_algebra|2024-01-30 02:48|cache|2.16|✅|\n",
    "|lp_intro|2024-01-30 02:48|cache|1.6|✅|\n",
    "|lu_tricks|2024-01-30 02:48|cache|2.2|✅|\n",
    "|newton_method|2024-01-30 02:49|cache|71.19|✅|\n",
    "|opt_transport|2024-01-30 02:49|cache|18.07|✅|\n",
    "|qr_decomp|2024-01-30 02:49|cache|1.06|✅|\n",
    "|rob_markov_perf|2024-01-30 02:49|cache|6.22|✅|\n",
    "|robustness|2024-01-30 02:50|cache|7.91|✅|\n",
    "|stationary_densities|2024-01-30 02:50|cache|10.84|✅|\n",
    "|status|2024-01-30 02:48|cache|0.91|✅|\n",
    "|svd_intro|2024-01-30 02:50|cache|1.25|✅|\n",
    "|troubleshooting|2024-01-30 02:48|cache|0.91|✅|\n",
    "|var_dmd|2024-01-30 02:48|cache|0.91|✅|\n",
    "|von_neumann_model|2024-01-30 02:50|cache|2.02|✅|\n",
    "|zreferences|2024-01-30 02:48|cache|0.91|✅|\n",
    "\n",
    "<a id='status-machine-details'></a>\n",
    "These lectures are built on `linux` instances through `github actions` so are\n",
    "executed using the following [hardware specifications](https://docs.github.com/en/actions/reference/specifications-for-github-hosted-runners#supported-runners-and-hardware-resources)"
   ]
  }
 ],
 "metadata": {
  "date": 1706583694.3417687,
  "filename": "status.md",
  "kernelspec": {
   "display_name": "Python",
   "language": "python3",
   "name": "python3"
  },
  "title": "Execution Statistics"
 },
 "nbformat": 4,
 "nbformat_minor": 5
}