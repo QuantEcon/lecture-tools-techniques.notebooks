{
 "cells": [
  {
   "cell_type": "markdown",
   "id": "71f28c1d",
   "metadata": {},
   "source": [
    "# Execution Statistics\n",
    "\n",
    "This table contains the latest execution statistics.\n",
    "\n",
    "[](https://tools-techniques.quantecon.org/additive_functionals.html)[](https://tools-techniques.quantecon.org/arma.html)[](https://tools-techniques.quantecon.org/classical_filtering.html)[](https://tools-techniques.quantecon.org/discrete_dp.html)[](https://tools-techniques.quantecon.org/eig_circulant.html)[](https://tools-techniques.quantecon.org/entropy.html)[](https://tools-techniques.quantecon.org/estspec.html)[](https://tools-techniques.quantecon.org/finite_markov.html)[](https://tools-techniques.quantecon.org/five_preferences.html)[](https://tools-techniques.quantecon.org/intro.html)[](https://tools-techniques.quantecon.org/linear_algebra.html)[](https://tools-techniques.quantecon.org/lp_intro.html)[](https://tools-techniques.quantecon.org/lu_tricks.html)[](https://tools-techniques.quantecon.org/newton_method.html)[](https://tools-techniques.quantecon.org/opt_transport.html)[](https://tools-techniques.quantecon.org/qr_decomp.html)[](https://tools-techniques.quantecon.org/rob_markov_perf.html)[](https://tools-techniques.quantecon.org/robustness.html)[](https://tools-techniques.quantecon.org/stationary_densities.html)[](https://tools-techniques.quantecon.org/.html)[](https://tools-techniques.quantecon.org/svd_intro.html)[](https://tools-techniques.quantecon.org/troubleshooting.html)[](https://tools-techniques.quantecon.org/var_dmd.html)[](https://tools-techniques.quantecon.org/von_neumann_model.html)[](https://tools-techniques.quantecon.org/zreferences.html)|Document|Modified|Method|Run Time (s)|Status|\n",
    "|:------------------:|:------------------:|:------------------:|:------------------:|:------------------:|\n",
    "|additive_functionals|2024-01-30 05:07|cache|21.19|✅|\n",
    "|arma|2024-01-30 05:07|cache|10.61|✅|\n",
    "|classical_filtering|2024-01-30 05:07|cache|1.24|✅|\n",
    "|discrete_dp|2024-01-30 05:07|cache|32.65|✅|\n",
    "|eig_circulant|2024-01-30 05:07|cache|3.72|✅|\n",
    "|entropy|2024-01-30 05:07|cache|0.97|✅|\n",
    "|estspec|2024-01-30 05:08|cache|7.36|✅|\n",
    "|finite_markov|2024-01-30 05:08|cache|7.51|✅|\n",
    "|five_preferences|2024-01-30 05:08|cache|15.37|✅|\n",
    "|intro|2024-01-30 05:08|cache|0.99|✅|\n",
    "|linear_algebra|2024-01-30 05:08|cache|2.08|✅|\n",
    "|lp_intro|2024-01-30 05:08|cache|1.56|✅|\n",
    "|lu_tricks|2024-01-30 05:08|cache|2.2|✅|\n",
    "|newton_method|2024-01-30 05:09|cache|73.41|✅|\n",
    "|opt_transport|2024-01-30 05:10|cache|18.43|✅|\n",
    "|qr_decomp|2024-01-30 05:10|cache|1.17|✅|\n",
    "|rob_markov_perf|2024-01-30 05:10|cache|6.53|✅|\n",
    "|robustness|2024-01-30 05:10|cache|7.81|✅|\n",
    "|stationary_densities|2024-01-30 05:10|cache|10.75|✅|\n",
    "|status|2024-01-30 05:08|cache|0.99|✅|\n",
    "|svd_intro|2024-01-30 05:10|cache|1.31|✅|\n",
    "|troubleshooting|2024-01-30 05:08|cache|0.99|✅|\n",
    "|var_dmd|2024-01-30 05:08|cache|0.99|✅|\n",
    "|von_neumann_model|2024-01-30 05:10|cache|1.86|✅|\n",
    "|zreferences|2024-01-30 05:08|cache|0.99|✅|\n",
    "\n",
    "<a id='status-machine-details'></a>\n",
    "These lectures are built on `linux` instances through `github actions` so are\n",
    "executed using the following [hardware specifications](https://docs.github.com/en/actions/reference/specifications-for-github-hosted-runners#supported-runners-and-hardware-resources)"
   ]
  }
 ],
 "metadata": {
  "date": 1708319589.4936845,
  "filename": "status.md",
  "kernelspec": {
   "display_name": "Python",
   "language": "python3",
   "name": "python3"
  },
  "title": "Execution Statistics"
 },
 "nbformat": 4,
 "nbformat_minor": 5
}