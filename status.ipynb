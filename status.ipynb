{
 "cells": [
  {
   "cell_type": "markdown",
   "id": "ed314926",
   "metadata": {},
   "source": [
    "# Execution Statistics\n",
    "\n",
    "This table contains the latest execution statistics.\n",
    "\n",
    "[](https://tools-techniques.quantecon.org/additive_functionals.html)[](https://tools-techniques.quantecon.org/arma.html)[](https://tools-techniques.quantecon.org/classical_filtering.html)[](https://tools-techniques.quantecon.org/discrete_dp.html)[](https://tools-techniques.quantecon.org/eig_circulant.html)[](https://tools-techniques.quantecon.org/entropy.html)[](https://tools-techniques.quantecon.org/estspec.html)[](https://tools-techniques.quantecon.org/finite_markov.html)[](https://tools-techniques.quantecon.org/five_preferences.html)[](https://tools-techniques.quantecon.org/intro.html)[](https://tools-techniques.quantecon.org/linear_algebra.html)[](https://tools-techniques.quantecon.org/lp_intro.html)[](https://tools-techniques.quantecon.org/lu_tricks.html)[](https://tools-techniques.quantecon.org/newton_method.html)[](https://tools-techniques.quantecon.org/opt_transport.html)[](https://tools-techniques.quantecon.org/qr_decomp.html)[](https://tools-techniques.quantecon.org/rob_markov_perf.html)[](https://tools-techniques.quantecon.org/robustness.html)[](https://tools-techniques.quantecon.org/stationary_densities.html)[](https://tools-techniques.quantecon.org/.html)[](https://tools-techniques.quantecon.org/svd_intro.html)[](https://tools-techniques.quantecon.org/troubleshooting.html)[](https://tools-techniques.quantecon.org/var_dmd.html)[](https://tools-techniques.quantecon.org/von_neumann_model.html)[](https://tools-techniques.quantecon.org/zreferences.html)|Document|Modified|Method|Run Time (s)|Status|\n",
    "|:------------------:|:------------------:|:------------------:|:------------------:|:------------------:|\n",
    "|additive_functionals|2024-06-13 03:26|cache|18.63|✅|\n",
    "|arma|2024-06-13 03:26|cache|8.31|✅|\n",
    "|classical_filtering|2024-06-13 03:26|cache|1.28|✅|\n",
    "|discrete_dp|2024-06-13 03:27|cache|30.75|✅|\n",
    "|eig_circulant|2024-06-13 03:27|cache|3.39|✅|\n",
    "|entropy|2024-06-13 03:27|cache|0.99|✅|\n",
    "|estspec|2024-06-13 03:27|cache|5.88|✅|\n",
    "|finite_markov|2024-06-13 03:27|cache|6.52|✅|\n",
    "|five_preferences|2024-06-13 03:27|cache|14.95|✅|\n",
    "|intro|2024-06-13 03:27|cache|1.02|✅|\n",
    "|linear_algebra|2024-06-13 03:27|cache|2.01|✅|\n",
    "|lp_intro|2024-06-13 03:28|cache|1.52|✅|\n",
    "|lu_tricks|2024-06-13 03:28|cache|2.06|✅|\n",
    "|newton_method|2024-06-13 03:29|cache|66.12|✅|\n",
    "|opt_transport|2024-06-13 03:29|cache|16.31|✅|\n",
    "|qr_decomp|2024-06-13 03:29|cache|1.04|✅|\n",
    "|rob_markov_perf|2024-06-13 03:29|cache|5.44|✅|\n",
    "|robustness|2024-06-13 03:29|cache|6.48|✅|\n",
    "|stationary_densities|2024-06-13 03:29|cache|10.0|✅|\n",
    "|status|2024-06-13 03:29|cache|4.44|✅|\n",
    "|svd_intro|2024-06-13 03:29|cache|1.4|✅|\n",
    "|troubleshooting|2024-06-13 03:27|cache|1.02|✅|\n",
    "|var_dmd|2024-06-13 03:27|cache|1.02|✅|\n",
    "|von_neumann_model|2024-06-13 03:29|cache|2.02|✅|\n",
    "|zreferences|2024-06-13 03:27|cache|1.02|✅|\n",
    "\n",
    "<a id='status-machine-details'></a>\n",
    "These lectures are built on `linux` instances through `github actions`.\n",
    "\n",
    "These lectures are using the following python version"
   ]
  },
  {
   "cell_type": "code",
   "execution_count": null,
   "id": "28ba5c1d",
   "metadata": {
    "hide-output": false
   },
   "outputs": [],
   "source": [
    "!python --version"
   ]
  },
  {
   "cell_type": "markdown",
   "id": "2377fd10",
   "metadata": {},
   "source": [
    "and the following package versions"
   ]
  },
  {
   "cell_type": "code",
   "execution_count": null,
   "id": "d7a6ae3d",
   "metadata": {
    "hide-output": false
   },
   "outputs": [],
   "source": [
    "!conda list"
   ]
  }
 ],
 "metadata": {
  "date": 1718249791.6284447,
  "filename": "status.md",
  "kernelspec": {
   "display_name": "Python",
   "language": "python3",
   "name": "python3"
  },
  "title": "Execution Statistics"
 },
 "nbformat": 4,
 "nbformat_minor": 5
}