{
 "cells": [
  {
   "cell_type": "markdown",
   "id": "7c91af9f",
   "metadata": {},
   "source": [
    "# Execution Statistics\n",
    "\n",
    "This table contains the latest execution statistics.\n",
    "\n",
    "[](https://tools-techniques.quantecon.org/additive_functionals.html)[](https://tools-techniques.quantecon.org/arma.html)[](https://tools-techniques.quantecon.org/classical_filtering.html)[](https://tools-techniques.quantecon.org/discrete_dp.html)[](https://tools-techniques.quantecon.org/eig_circulant.html)[](https://tools-techniques.quantecon.org/entropy.html)[](https://tools-techniques.quantecon.org/estspec.html)[](https://tools-techniques.quantecon.org/finite_markov.html)[](https://tools-techniques.quantecon.org/five_preferences.html)[](https://tools-techniques.quantecon.org/intro.html)[](https://tools-techniques.quantecon.org/linear_algebra.html)[](https://tools-techniques.quantecon.org/lp_intro.html)[](https://tools-techniques.quantecon.org/lu_tricks.html)[](https://tools-techniques.quantecon.org/newton_method.html)[](https://tools-techniques.quantecon.org/opt_transport.html)[](https://tools-techniques.quantecon.org/qr_decomp.html)[](https://tools-techniques.quantecon.org/rob_markov_perf.html)[](https://tools-techniques.quantecon.org/robustness.html)[](https://tools-techniques.quantecon.org/stationary_densities.html)[](https://tools-techniques.quantecon.org/.html)[](https://tools-techniques.quantecon.org/svd_intro.html)[](https://tools-techniques.quantecon.org/troubleshooting.html)[](https://tools-techniques.quantecon.org/var_dmd.html)[](https://tools-techniques.quantecon.org/von_neumann_model.html)[](https://tools-techniques.quantecon.org/zreferences.html)|Document|Modified|Method|Run Time (s)|Status|\n",
    "|:------------------:|:------------------:|:------------------:|:------------------:|:------------------:|\n",
    "|additive_functionals|2024-01-29 00:19|cache|20.17|✅|\n",
    "|arma|2024-01-29 00:19|cache|9.75|✅|\n",
    "|classical_filtering|2024-01-29 00:19|cache|1.41|✅|\n",
    "|discrete_dp|2024-01-29 00:20|cache|31.21|✅|\n",
    "|eig_circulant|2024-01-29 00:20|cache|3.42|✅|\n",
    "|entropy|2024-01-29 00:20|cache|0.98|✅|\n",
    "|estspec|2024-01-29 00:20|cache|6.94|✅|\n",
    "|finite_markov|2024-01-29 00:20|cache|7.15|✅|\n",
    "|five_preferences|2024-01-29 00:20|cache|14.95|✅|\n",
    "|intro|2024-01-29 00:20|cache|0.81|✅|\n",
    "|linear_algebra|2024-01-29 00:20|cache|1.98|✅|\n",
    "|lp_intro|2024-01-29 00:20|cache|1.49|✅|\n",
    "|lu_tricks|2024-01-29 00:20|cache|2.15|✅|\n",
    "|newton_method|2024-01-29 00:21|cache|67.76|✅|\n",
    "|opt_transport|2024-01-29 00:22|cache|17.87|✅|\n",
    "|qr_decomp|2024-01-29 00:22|cache|1.24|✅|\n",
    "|rob_markov_perf|2024-01-29 00:22|cache|6.23|✅|\n",
    "|robustness|2024-01-29 00:22|cache|7.69|✅|\n",
    "|stationary_densities|2024-01-29 00:22|cache|10.68|✅|\n",
    "|status|2024-01-29 00:20|cache|0.81|✅|\n",
    "|svd_intro|2024-01-29 00:22|cache|1.29|✅|\n",
    "|troubleshooting|2024-01-29 00:20|cache|0.81|✅|\n",
    "|var_dmd|2024-01-29 00:20|cache|0.81|✅|\n",
    "|von_neumann_model|2024-01-29 00:22|cache|1.89|✅|\n",
    "|zreferences|2024-01-29 00:20|cache|0.81|✅|\n",
    "\n",
    "<a id='status-machine-details'></a>\n",
    "These lectures are built on `linux` instances through `github actions`  and `amazon web services (aws)` to\n",
    "enable access to a `gpu`. These lectures are built on a [p3.2xlarge](https://aws.amazon.com/ec2/instance-types/p3/)\n",
    "that has access to `8 vcpu's`, a `V100 NVIDIA Tesla GPU`, and `61 Gb` of memory."
   ]
  }
 ],
 "metadata": {
  "date": 1706492939.7981322,
  "filename": "status.md",
  "kernelspec": {
   "display_name": "Python",
   "language": "python3",
   "name": "python3"
  },
  "title": "Execution Statistics"
 },
 "nbformat": 4,
 "nbformat_minor": 5
}