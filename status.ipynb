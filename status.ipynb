{
 "cells": [
  {
   "cell_type": "markdown",
   "id": "4f4d2001",
   "metadata": {},
   "source": [
    "# Execution Statistics\n",
    "\n",
    "This table contains the latest execution statistics.\n",
    "\n",
    "[](https://tools-techniques.quantecon.org/additive_functionals.html)[](https://tools-techniques.quantecon.org/arma.html)[](https://tools-techniques.quantecon.org/classical_filtering.html)[](https://tools-techniques.quantecon.org/discrete_dp.html)[](https://tools-techniques.quantecon.org/eig_circulant.html)[](https://tools-techniques.quantecon.org/entropy.html)[](https://tools-techniques.quantecon.org/estspec.html)[](https://tools-techniques.quantecon.org/finite_markov.html)[](https://tools-techniques.quantecon.org/five_preferences.html)[](https://tools-techniques.quantecon.org/intro.html)[](https://tools-techniques.quantecon.org/linear_algebra.html)[](https://tools-techniques.quantecon.org/lp_intro.html)[](https://tools-techniques.quantecon.org/lu_tricks.html)[](https://tools-techniques.quantecon.org/newton_method.html)[](https://tools-techniques.quantecon.org/opt_transport.html)[](https://tools-techniques.quantecon.org/qr_decomp.html)[](https://tools-techniques.quantecon.org/rob_markov_perf.html)[](https://tools-techniques.quantecon.org/robustness.html)[](https://tools-techniques.quantecon.org/stationary_densities.html)[](https://tools-techniques.quantecon.org/.html)[](https://tools-techniques.quantecon.org/svd_intro.html)[](https://tools-techniques.quantecon.org/troubleshooting.html)[](https://tools-techniques.quantecon.org/var_dmd.html)[](https://tools-techniques.quantecon.org/von_neumann_model.html)[](https://tools-techniques.quantecon.org/zreferences.html)|Document|Modified|Method|Run Time (s)|Status|\n",
    "|:------------------:|:------------------:|:------------------:|:------------------:|:------------------:|\n",
    "|additive_functionals|2024-05-02 05:56|cache|16.96|✅|\n",
    "|arma|2024-05-02 05:57|cache|8.36|✅|\n",
    "|classical_filtering|2024-05-02 05:57|cache|1.29|✅|\n",
    "|discrete_dp|2024-05-02 05:57|cache|30.41|✅|\n",
    "|eig_circulant|2024-05-02 05:57|cache|3.25|✅|\n",
    "|entropy|2024-05-02 05:57|cache|4.02|✅|\n",
    "|estspec|2024-05-02 05:57|cache|5.89|✅|\n",
    "|finite_markov|2024-05-02 05:58|cache|6.75|✅|\n",
    "|five_preferences|2024-05-02 05:58|cache|14.78|✅|\n",
    "|intro|2024-05-02 05:58|cache|0.97|✅|\n",
    "|linear_algebra|2024-05-02 05:58|cache|1.96|✅|\n",
    "|lp_intro|2024-05-02 05:58|cache|1.63|✅|\n",
    "|lu_tricks|2024-05-02 05:58|cache|2.04|✅|\n",
    "|newton_method|2024-05-02 05:59|cache|64.3|✅|\n",
    "|opt_transport|2024-05-02 05:59|cache|16.52|✅|\n",
    "|qr_decomp|2024-05-02 05:59|cache|1.13|✅|\n",
    "|rob_markov_perf|2024-05-02 05:59|cache|5.51|✅|\n",
    "|robustness|2024-05-02 05:59|cache|6.68|✅|\n",
    "|stationary_densities|2024-05-02 06:00|cache|9.79|✅|\n",
    "|status|2024-05-02 06:00|cache|4.67|✅|\n",
    "|svd_intro|2024-05-02 06:00|cache|1.44|✅|\n",
    "|troubleshooting|2024-05-02 05:58|cache|0.97|✅|\n",
    "|var_dmd|2024-05-02 05:58|cache|0.97|✅|\n",
    "|von_neumann_model|2024-05-02 06:00|cache|1.95|✅|\n",
    "|zreferences|2024-05-02 05:58|cache|0.97|✅|\n",
    "\n",
    "<a id='status-machine-details'></a>\n",
    "These lectures are built on `linux` instances through `github actions`.\n",
    "\n",
    "These lectures are using the following python version"
   ]
  },
  {
   "cell_type": "code",
   "execution_count": null,
   "id": "33f7c361",
   "metadata": {
    "hide-output": false
   },
   "outputs": [],
   "source": [
    "!python --version"
   ]
  },
  {
   "cell_type": "markdown",
   "id": "7af370fa",
   "metadata": {},
   "source": [
    "and the following package versions"
   ]
  },
  {
   "cell_type": "code",
   "execution_count": null,
   "id": "f12232b5",
   "metadata": {
    "hide-output": false
   },
   "outputs": [],
   "source": [
    "!conda list"
   ]
  }
 ],
 "metadata": {
  "date": 1714701450.9859257,
  "filename": "status.md",
  "kernelspec": {
   "display_name": "Python",
   "language": "python3",
   "name": "python3"
  },
  "title": "Execution Statistics"
 },
 "nbformat": 4,
 "nbformat_minor": 5
}