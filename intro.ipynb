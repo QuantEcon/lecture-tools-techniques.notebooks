{
 "cells": [
  {
   "cell_type": "markdown",
   "id": "8502b062",
   "metadata": {},
   "source": [
    "# Tools and Techniques for Computational Economics\n",
    "\n",
    "This website presents a set of lectures on the tools and techniques required to study computational economics."
   ]
  },
  {
   "cell_type": "markdown",
   "id": "5834e2cb",
   "metadata": {},
   "source": [
    "# Linear Algebra\n",
    "\n",
    "- [Linear Algebra](https://tools-techniques.quantecon.org/linear_algebra.html)\n",
    "- [QR Decomposition](https://tools-techniques.quantecon.org/qr_decomp.html)\n",
    "- [Circulant Matrices](https://tools-techniques.quantecon.org/eig_circulant.html)\n",
    "- [Singular Value Decomposition (SVD)](https://tools-techniques.quantecon.org/svd_intro.html)\n",
    "- [Classical Control with Linear Algebra](https://tools-techniques.quantecon.org/lu_tricks.html)\n",
    "- [Classical Prediction and Filtering With Linear Algebra](https://tools-techniques.quantecon.org/classical_filtering.html)"
   ]
  },
  {
   "cell_type": "markdown",
   "id": "5eada257",
   "metadata": {},
   "source": [
    "# Linear Programming\n",
    "\n",
    "- [Linear Programming](https://tools-techniques.quantecon.org/lp_intro.html)\n",
    "- [Optimal Transport](https://tools-techniques.quantecon.org/opt_transport.html)\n",
    "- [Von Neumann Growth Model (and a Generalization)](https://tools-techniques.quantecon.org/von_neumann_model.html)"
   ]
  },
  {
   "cell_type": "markdown",
   "id": "2bc7b258",
   "metadata": {},
   "source": [
    "# Solution Methods\n",
    "\n",
    "- [Using Newton’s Method to Solve Economic Models](https://tools-techniques.quantecon.org/newton_method.html)\n",
    "- [Discrete State Dynamic Programming](https://tools-techniques.quantecon.org/discrete_dp.html)"
   ]
  },
  {
   "cell_type": "markdown",
   "id": "3271b730",
   "metadata": {},
   "source": [
    "# Time Series Models\n",
    "\n",
    "- [VARs and DMDs](https://tools-techniques.quantecon.org/var_dmd.html)\n",
    "- [Finite Markov Chains](https://tools-techniques.quantecon.org/finite_markov.html)\n",
    "- [Continuous State Markov Chains](https://tools-techniques.quantecon.org/stationary_densities.html)\n",
    "- [Covariance Stationary Processes](https://tools-techniques.quantecon.org/arma.html)\n",
    "- [Estimation of Spectra](https://tools-techniques.quantecon.org/estspec.html)\n",
    "- [Additive and Multiplicative Functionals](https://tools-techniques.quantecon.org/additive_functionals.html)"
   ]
  },
  {
   "cell_type": "markdown",
   "id": "cb7014c9",
   "metadata": {},
   "source": [
    "# Risk, Model Uncertainty and Robustness\n",
    "\n",
    "- [Risk and Model Uncertainty](https://tools-techniques.quantecon.org/five_preferences.html)\n",
    "- [Etymology of Entropy](https://tools-techniques.quantecon.org/entropy.html)\n",
    "- [Robustness](https://tools-techniques.quantecon.org/robustness.html)\n",
    "- [Robust Markov Perfect Equilibrium](https://tools-techniques.quantecon.org/rob_markov_perf.html)"
   ]
  },
  {
   "cell_type": "markdown",
   "id": "1e7ba95f",
   "metadata": {},
   "source": [
    "# Other\n",
    "\n",
    "- [Troubleshooting](https://tools-techniques.quantecon.org/troubleshooting.html)\n",
    "- [References](https://tools-techniques.quantecon.org/zreferences.html)\n",
    "- [Execution Statistics](https://tools-techniques.quantecon.org/status.html)"
   ]
  }
 ],
 "metadata": {
  "date": 1708319588.7912447,
  "filename": "intro.md",
  "kernelspec": {
   "display_name": "Python",
   "language": "python3",
   "name": "python3"
  },
  "title": "Tools and Techniques for Computational Economics"
 },
 "nbformat": 4,
 "nbformat_minor": 5
}